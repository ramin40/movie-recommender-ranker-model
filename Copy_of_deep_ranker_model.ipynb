{
  "nbformat": 4,
  "nbformat_minor": 0,
  "metadata": {
    "colab": {
      "name": "Copy of deep ranker model.ipynb",
      "provenance": [],
      "mount_file_id": "1cKVebmaVtlKGGAyx87PqsdETLkJtGhll",
      "authorship_tag": "ABX9TyPyu4ThGxFasHX5aP4luF1F",
      "include_colab_link": true
    },
    "kernelspec": {
      "name": "python3",
      "display_name": "Python 3"
    },
    "language_info": {
      "name": "python"
    }
  },
  "cells": [
    {
      "cell_type": "markdown",
      "metadata": {
        "id": "view-in-github",
        "colab_type": "text"
      },
      "source": [
        "<a href=\"https://colab.research.google.com/github/ramin40/movie-recommender-ranker-model/blob/main/Copy_of_deep_ranker_model.ipynb\" target=\"_parent\"><img src=\"https://colab.research.google.com/assets/colab-badge.svg\" alt=\"Open In Colab\"/></a>"
      ]
    },
    {
      "cell_type": "markdown",
      "metadata": {
        "id": "tVHdgOQgTcz_"
      },
      "source": [
        "# importing necessary libreries"
      ]
    },
    {
      "cell_type": "code",
      "metadata": {
        "colab": {
          "base_uri": "https://localhost:8080/"
        },
        "id": "oCgBasxETiOl",
        "outputId": "b84e793f-b4f2-4a5d-c3a8-5c378ff4c021"
      },
      "source": [
        "! pip install -q tensorflow-recommenders"
      ],
      "execution_count": null,
      "outputs": [
        {
          "output_type": "stream",
          "name": "stdout",
          "text": [
            "\u001b[?25l\r\u001b[K     |███▉                            | 10 kB 19.2 MB/s eta 0:00:01\r\u001b[K     |███████▋                        | 20 kB 10.5 MB/s eta 0:00:01\r\u001b[K     |███████████▌                    | 30 kB 7.0 MB/s eta 0:00:01\r\u001b[K     |███████████████▎                | 40 kB 3.6 MB/s eta 0:00:01\r\u001b[K     |███████████████████             | 51 kB 4.0 MB/s eta 0:00:01\r\u001b[K     |███████████████████████         | 61 kB 4.5 MB/s eta 0:00:01\r\u001b[K     |██████████████████████████▊     | 71 kB 4.4 MB/s eta 0:00:01\r\u001b[K     |██████████████████████████████▌ | 81 kB 5.0 MB/s eta 0:00:01\r\u001b[K     |████████████████████████████████| 85 kB 2.3 MB/s \n",
            "\u001b[?25h"
          ]
        }
      ]
    },
    {
      "cell_type": "code",
      "metadata": {
        "id": "7moosUB_TJhG"
      },
      "source": [
        "import tensorflow as tf\n",
        "import numpy as np\n",
        "import pprint\n",
        "import tensorflow_recommenders as tfrs\n"
      ],
      "execution_count": null,
      "outputs": []
    },
    {
      "cell_type": "code",
      "metadata": {
        "colab": {
          "base_uri": "https://localhost:8080/"
        },
        "id": "JfcDwUfiULEu",
        "outputId": "86fb0730-9bf5-4f9e-d91e-973bae0cfb14"
      },
      "source": [
        "movies=tf.data.experimental.load('/content/drive/MyDrive/datasets/movielens_movies')\n",
        "ratings=tf.data.experimental.load('/content/drive/MyDrive/datasets/movielens_ratings')\n",
        "for x in ratings.take(1).as_numpy_iterator():\n",
        "  pprint.pprint(x)"
      ],
      "execution_count": null,
      "outputs": [
        {
          "output_type": "stream",
          "name": "stdout",
          "text": [
            "{'bucketized_user_age': 45.0,\n",
            " 'movie_genres': array([7]),\n",
            " 'movie_id': b'357',\n",
            " 'movie_title': b\"One Flew Over the Cuckoo's Nest (1975)\",\n",
            " 'raw_user_age': 46.0,\n",
            " 'timestamp': 879024327,\n",
            " 'user_gender': True,\n",
            " 'user_id': b'138',\n",
            " 'user_occupation_label': 4,\n",
            " 'user_occupation_text': b'doctor',\n",
            " 'user_rating': 4.0,\n",
            " 'user_zip_code': b'53211'}\n"
          ]
        }
      ]
    },
    {
      "cell_type": "code",
      "metadata": {
        "id": "jKcZqQteUTks"
      },
      "source": [
        "user_data=ratings.map(lambda x:{\n",
        "    'age':float(x['raw_user_age']),\n",
        "    'time':float(x['timestamp']),\n",
        "    'gender':float(x['user_gender']),\n",
        "    'occupation':x['user_occupation_text'],\n",
        "    'movie_title':x['movie_title'],\n",
        "    'genre':float(x['movie_genres'][0]),\n",
        "    'rating':float(x['user_rating'])\n",
        "})\n",
        "\n",
        "movie_data=movies.map(lambda x: {'movie_title':x['movie_title'],\n",
        "                      'genre':float(x['movie_genres'][0])})\n",
        "movie_title=movies.map(lambda x:x['movie_title']\n",
        "                     )"
      ],
      "execution_count": null,
      "outputs": []
    },
    {
      "cell_type": "code",
      "metadata": {
        "colab": {
          "base_uri": "https://localhost:8080/"
        },
        "id": "-ejSpyuQUwZ_",
        "outputId": "83033249-76d9-4c85-95ae-40698eb3f78c"
      },
      "source": [
        "for x in user_data.take(1).as_numpy_iterator():\n",
        "  pprint.pprint(x)\n",
        "print('-------------------------------')\n",
        "for x in movie_data.take(1).as_numpy_iterator():\n",
        "  pprint.pprint(x)"
      ],
      "execution_count": null,
      "outputs": [
        {
          "output_type": "stream",
          "name": "stdout",
          "text": [
            "{'age': 46.0,\n",
            " 'gender': 1.0,\n",
            " 'genre': 7.0,\n",
            " 'movie_title': b\"One Flew Over the Cuckoo's Nest (1975)\",\n",
            " 'occupation': b'doctor',\n",
            " 'rating': 4.0,\n",
            " 'time': 879024300.0}\n",
            "-------------------------------\n",
            "{'genre': 4.0, 'movie_title': b'You So Crazy (1994)'}\n"
          ]
        }
      ]
    },
    {
      "cell_type": "markdown",
      "metadata": {
        "id": "k68nQLncZwm9"
      },
      "source": [
        "# creating vocabulary for string features"
      ]
    },
    {
      "cell_type": "code",
      "metadata": {
        "id": "BQvsHUZ2YwfO"
      },
      "source": [
        "movie_titles=user_data.map(lambda x:x['movie_title'])\n",
        "unique_movie_titles=np.unique(np.concatenate(list(movie_titles.batch(1_000))))\n",
        "user_occupation=user_data.map(lambda x :x['occupation'])\n",
        "unique_user_occupation=np.unique(np.concatenate(list(user_occupation.batch(1_000))))\n",
        "movie_genres=user_data.map(lambda x :x['genre'])\n",
        "unique_movie_genres=np.unique(np.concatenate(list(movie_genres.batch(1_000))))\n",
        "user_gender=movie_genres=user_data.map(lambda x :x['gender'])\n",
        "unique_user_gender=np.unique(np.concatenate(list(user_gender.batch(1_000))))"
      ],
      "execution_count": null,
      "outputs": []
    },
    {
      "cell_type": "code",
      "metadata": {
        "id": "wKkhX9GnYzId"
      },
      "source": [
        "timestamp=user_data.map(lambda x : x['time'])\n",
        "min_timestamp=np.unique(np.concatenate(list(timestamp.batch(1_000)))).min()\n",
        "max_timestamp=np.unique(np.concatenate(list(timestamp.batch(1_000)))).max()\n",
        "time_bucket=np.linspace(min_timestamp,max_timestamp,1000)\n",
        "ages=user_data.map(lambda x : x['age'])"
      ],
      "execution_count": null,
      "outputs": []
    },
    {
      "cell_type": "markdown",
      "metadata": {
        "id": "dTNmUSRZZql5"
      },
      "source": [
        "# spliting data to train and test"
      ]
    },
    {
      "cell_type": "code",
      "metadata": {
        "id": "Veb-Gd_GY3tl"
      },
      "source": [
        "tf.random.set_seed(123)\n",
        "shuffled=user_data.shuffle(1_000,reshuffle_each_iteration=False)\n",
        "\n",
        "train=shuffled.take(80_000)\n",
        "test=shuffled.skip(80_000).take(10_000)"
      ],
      "execution_count": null,
      "outputs": []
    },
    {
      "cell_type": "markdown",
      "metadata": {
        "id": "pefk1HKcZlu8"
      },
      "source": [
        "# creating seprate models"
      ]
    },
    {
      "cell_type": "code",
      "metadata": {
        "id": "Il71GbF6tZdz"
      },
      "source": [
        "embedding_dim=128\n",
        "# age normalizer\n",
        "age_normalizer=tf.keras.layers.Normalization(\n",
        "    axis=None\n",
        ")\n",
        "age_normalizer.adapt(ages)"
      ],
      "execution_count": null,
      "outputs": []
    },
    {
      "cell_type": "code",
      "metadata": {
        "id": "3DfO4Z5UxMkM"
      },
      "source": [
        "# gender model\n",
        "gender_model=tf.keras.Sequential(\n",
        "    [tf.keras.layers.IntegerLookup(vocabulary=unique_user_gender),\n",
        "     tf.keras.layers.Embedding(len(unique_user_gender)+1,embedding_dim)\n",
        "    ]\n",
        ")"
      ],
      "execution_count": null,
      "outputs": []
    },
    {
      "cell_type": "code",
      "metadata": {
        "id": "o2anWvINxMhX"
      },
      "source": [
        "# genre model\n",
        "genre_normalizer=tf.keras.layers.Normalization(axis=None)\n",
        "genre_normalizer.adapt(movie_genres)\n",
        "genre_model=tf.keras.Sequential([tf.keras.layers.IntegerLookup(vocabulary=unique_movie_genres),\n",
        "    tf.keras.layers.Embedding(len(unique_movie_genres)+1,embedding_dim)\n",
        "     \n",
        "    ]\n",
        ")"
      ],
      "execution_count": null,
      "outputs": []
    },
    {
      "cell_type": "code",
      "metadata": {
        "id": "m4rjAvD5xMer"
      },
      "source": [
        "\n",
        "# movie model\n",
        "movie_model=tf.keras.Sequential(\n",
        "    [tf.keras.layers.StringLookup(vocabulary=unique_movie_titles),\n",
        "     tf.keras.layers.Embedding(len(unique_movie_titles)+1,embedding_dim)\n",
        "    ]\n",
        ")"
      ],
      "execution_count": null,
      "outputs": []
    },
    {
      "cell_type": "code",
      "metadata": {
        "id": "kImV2qS8xRSR"
      },
      "source": [
        "# occupation model\n",
        "occupation_model=tf.keras.Sequential(\n",
        "    [tf.keras.layers.StringLookup(vocabulary=unique_user_occupation),\n",
        "     tf.keras.layers.Embedding(len(unique_user_occupation)+1,embedding_dim)\n",
        "    ]\n",
        ")"
      ],
      "execution_count": null,
      "outputs": []
    },
    {
      "cell_type": "code",
      "metadata": {
        "id": "EsGJ8qdgxRPm"
      },
      "source": [
        "\n",
        "# time normalizer\n",
        "time_model=tf.keras.Sequential(\n",
        "    [tf.keras.layers.Discretization(time_bucket.tolist()),\n",
        "     tf.keras.layers.Embedding(len(time_bucket)+1,embedding_dim)\n",
        "    ]\n",
        ")\n",
        "time_normalizer=tf.keras.layers.Normalization(axis=None)\n",
        "time_normalizer.adapt(timestamp)"
      ],
      "execution_count": null,
      "outputs": []
    },
    {
      "cell_type": "code",
      "metadata": {
        "id": "W8YkxWbmxRNH"
      },
      "source": [
        "# rating model\n",
        "rating_model=tf.keras.Sequential(\n",
        "    [tf.keras.layers.Dense(128,activation='tanh'),\n",
        "     tf.keras.layers.Dense(64,activation='tanh'),\n",
        "     tf.keras.layers.Dense(1)\n",
        "     \n",
        "    ]\n",
        ")"
      ],
      "execution_count": null,
      "outputs": []
    },
    {
      "cell_type": "markdown",
      "metadata": {
        "id": "aPTS_u_uZ4mE"
      },
      "source": [
        "# query tower\n",
        "* user model"
      ]
    },
    {
      "cell_type": "code",
      "metadata": {
        "id": "C5k0_CgLZ6y2"
      },
      "source": [
        "class UserModel(tf.keras.Model):\n",
        "  def __init__(self):\n",
        "    super().__init__()\n",
        "    self.age_normalizer=age_normalizer\n",
        "    self.gender_model=gender_model\n",
        "    self.occupation_model=occupation_model\n",
        "    self.time_model=time_model\n",
        "    self.time_normalizer=time_normalizer\n",
        "\n",
        "  def call(self,inputs):\n",
        "    out=tf.concat(\n",
        "        [tf.reshape(self.age_normalizer(inputs['age']),(-1,1)),\n",
        "         self.gender_model(inputs['gender']),\n",
        "         self.occupation_model(inputs['occupation']),\n",
        "         self.time_model(inputs['time']),\n",
        "         tf.reshape(self.time_normalizer(inputs['time']),(-1,1))\n",
        "        ],axis=1\n",
        "    )\n",
        "    return out"
      ],
      "execution_count": null,
      "outputs": []
    },
    {
      "cell_type": "code",
      "metadata": {
        "id": "T91iQ4D-aFDs"
      },
      "source": [
        "class QueryTower(tf.keras.Model):\n",
        "  def __init__(self,layers):\n",
        "    super().__init__()\n",
        "    self.user_model=UserModel()\n",
        "    self.dense_model=tf.keras.Sequential()\n",
        "    for layer in layers[:-1]:\n",
        "      self.dense_model.add(tf.keras.layers.Dense(layer,activation='relu'))\n",
        "    for layer in layers[-1:]:\n",
        "      self.dense_model.add(tf.keras.layers.Dense(layer,activation='relu'))\n",
        "  def call(self,inputs):\n",
        "    v=self.user_model(inputs)\n",
        "    return self.dense_model(v)"
      ],
      "execution_count": null,
      "outputs": []
    },
    {
      "cell_type": "markdown",
      "metadata": {
        "id": "3Cb16a3AaG11"
      },
      "source": [
        "# candidate tower"
      ]
    },
    {
      "cell_type": "code",
      "metadata": {
        "id": "G3UchQZ-aI9E"
      },
      "source": [
        "class MovieModel(tf.keras.Model):\n",
        "  def __init__(self):\n",
        "    super().__init__()\n",
        "    self.movie_model=movie_model\n",
        "    self.genre_model=genre_model\n",
        "    self.genre_normalizer=genre_normalizer\n",
        "  def call(self,inputs):\n",
        "    out=tf.concat(\n",
        "        [self.movie_model(inputs['movie_title']),\n",
        "         self.genre_model(inputs['genre']),\n",
        "         tf.reshape(self.genre_normalizer(inputs['genre']),(-1,1))\n",
        "        ],axis=1\n",
        "    )\n",
        "    return out"
      ],
      "execution_count": null,
      "outputs": []
    },
    {
      "cell_type": "code",
      "metadata": {
        "id": "CLcBuAkRaNlE"
      },
      "source": [
        "class CandidateTower(tf.keras.Model):\n",
        "  def __init__(self,layers):\n",
        "    super().__init__()\n",
        "    self.movie_model=MovieModel()\n",
        "    self.dense=tf.keras.Sequential()\n",
        "    for layer in layers[:-1]:\n",
        "      self.dense.add(tf.keras.layers.Dense(layer,activation='relu'))\n",
        "    for layer in layers[-1:]:\n",
        "      self.dense.add(tf.keras.layers.Dense(layer))\n",
        "  def call(self,inputs):\n",
        "    x=self.movie_model(inputs)\n",
        "    return self.dense(x)"
      ],
      "execution_count": null,
      "outputs": []
    },
    {
      "cell_type": "markdown",
      "metadata": {
        "id": "cYN_9dvXaYb8"
      },
      "source": [
        "# rating model"
      ]
    },
    {
      "cell_type": "code",
      "metadata": {
        "id": "xfaG8kDkaZ9U"
      },
      "source": [
        "class Rating(tf.keras.Model):\n",
        "  def __init__(self,layers):\n",
        "    super().__init__()\n",
        "    self.candidate_tower=CandidateTower(layers)\n",
        "    self.query_tower=QueryTower(layers)\n",
        "    self.rating_model=rating_model\n",
        "  def call(self,inputs):\n",
        "    candidate_embedings=self.candidate_tower(inputs)\n",
        "    query_embeddings=self.query_tower(inputs)\n",
        "    rating_input=tf.concat([candidate_embedings,query_embeddings],axis=1)\n",
        "    rates=self.rating_model(rating_input)\n",
        "    return rates"
      ],
      "execution_count": null,
      "outputs": []
    },
    {
      "cell_type": "code",
      "metadata": {
        "id": "Gt-SIEehb6TY"
      },
      "source": [
        "class Ranker(tfrs.models.Model):\n",
        "  def __init__(self,layers):\n",
        "    super(Ranker,self).__init__()\n",
        "    self.rating_model=Rating(layers)\n",
        "    self.task = tfrs.tasks.Ranking(\n",
        "          loss = tf.keras.losses.MeanSquaredError(),\n",
        "          metrics=[tf.keras.metrics.RootMeanSquaredError()]\n",
        "        )\n",
        "  def compute_loss(self,features,training=True'''Whether the model is in training mode.'''):\n",
        "    labels=features.pop('rating')\n",
        "    pred=self.rating_model(features)\n",
        "    return self.task(labels=labels, predictions=pred)"
      ],
      "execution_count": null,
      "outputs": []
    },
    {
      "cell_type": "code",
      "metadata": {
        "id": "YPk2Fq9I1xhZ"
      },
      "source": [
        ""
      ],
      "execution_count": null,
      "outputs": []
    },
    {
      "cell_type": "code",
      "metadata": {
        "id": "gQNUyPUmeuqn"
      },
      "source": [
        "model = Ranker([10])\n",
        "model.compile(optimizer=tf.keras.optimizers.Adagrad(learning_rate=0.1))"
      ],
      "execution_count": null,
      "outputs": []
    },
    {
      "cell_type": "markdown",
      "metadata": {
        "id": "KLGE_SnDuFR1"
      },
      "source": [
        "# preparing data to train model"
      ]
    },
    {
      "cell_type": "code",
      "metadata": {
        "id": "GWzg9A8suA3i"
      },
      "source": [
        "cached_train = train.shuffle(100_000).batch(2048).cache().prefetch(tf.data.AUTOTUNE)\n",
        "cached_test = test.batch(4096).cache().prefetch(tf.data.AUTOTUNE)"
      ],
      "execution_count": null,
      "outputs": []
    },
    {
      "cell_type": "markdown",
      "metadata": {
        "id": "sZXvpCOluTVi"
      },
      "source": [
        "# training"
      ]
    },
    {
      "cell_type": "code",
      "metadata": {
        "colab": {
          "base_uri": "https://localhost:8080/"
        },
        "id": "bYzJHHO-uSpi",
        "outputId": "26fe8aec-88b6-4ddc-de9b-a6bb4959b30c"
      },
      "source": [
        "num_epochs = 300\n",
        "model = Ranker([64])\n",
        "model.compile(optimizer=tf.keras.optimizers.Adagrad(0.1))\n",
        "\n",
        "one_layer_history = model.fit(\n",
        "    cached_train,\n",
        "    validation_data=cached_test,\n",
        "    validation_freq=5,\n",
        "    epochs=num_epochs,\n",
        "    verbose=0)\n",
        "\n",
        "model.evaluate(cached_test, return_dict=True)"
      ],
      "execution_count": null,
      "outputs": [
        {
          "output_type": "stream",
          "name": "stdout",
          "text": [
            "3/3 [==============================] - 0s 19ms/step - root_mean_squared_error: 0.9607 - loss: 0.9212 - regularization_loss: 0.0000e+00 - total_loss: 0.9212\n"
          ]
        },
        {
          "output_type": "execute_result",
          "data": {
            "text/plain": [
              "{'loss': 0.9185203909873962,\n",
              " 'regularization_loss': 0,\n",
              " 'root_mean_squared_error': 0.9607136249542236,\n",
              " 'total_loss': 0.9185203909873962}"
            ]
          },
          "metadata": {},
          "execution_count": 54
        }
      ]
    },
    {
      "cell_type": "markdown",
      "metadata": {
        "id": "Hw4Sv-xD2yYb"
      },
      "source": [
        "# building model with call method"
      ]
    },
    {
      "cell_type": "code",
      "metadata": {
        "id": "5iw4Losw2xuW"
      },
      "source": [
        "class Ranker(tfrs.models.Model):\n",
        "  def __init__(self,layers):\n",
        "    super(Ranker,self).__init__()\n",
        "    self.rating_model=Rating(layers)\n",
        "    self.task = tfrs.tasks.Ranking(\n",
        "          loss = tf.keras.losses.MeanSquaredError(),\n",
        "          metrics=[tf.keras.metrics.RootMeanSquaredError()]\n",
        "        )\n",
        "  def call(self,inputs):\n",
        "    rate=self.rating_model(inputs)\n",
        "    return rate\n",
        "  def compute_loss(self,features,\n",
        "                   training=True\n",
        "                  #Whether the model is in training mode\n",
        "                   ):\n",
        "    labels=features.pop('rating')\n",
        "    pred=self(features)\n",
        "    return self.task(labels=labels, predictions=pred)"
      ],
      "execution_count": null,
      "outputs": []
    },
    {
      "cell_type": "code",
      "metadata": {
        "colab": {
          "base_uri": "https://localhost:8080/"
        },
        "id": "5uFSa-dp2eyq",
        "outputId": "2277b147-4549-4c09-f2a1-71a96862ed53"
      },
      "source": [
        "num_epochs = 100\n",
        "model = Ranker([64])\n",
        "model.compile(optimizer=tf.keras.optimizers.Adagrad(0.1))\n",
        "\n",
        "one_layer_history = model.fit(\n",
        "    cached_train,\n",
        "    validation_data=cached_test,\n",
        "    validation_freq=5,\n",
        "    epochs=num_epochs,\n",
        "    verbose=0)\n",
        "\n",
        "model.evaluate(cached_test, return_dict=True)"
      ],
      "execution_count": null,
      "outputs": [
        {
          "output_type": "stream",
          "name": "stdout",
          "text": [
            "3/3 [==============================] - 0s 18ms/step - root_mean_squared_error: 0.9869 - loss: 0.9707 - regularization_loss: 0.0000e+00 - total_loss: 0.9707\n"
          ]
        },
        {
          "output_type": "execute_result",
          "data": {
            "text/plain": [
              "{'loss': 0.9656700491905212,\n",
              " 'regularization_loss': 0,\n",
              " 'root_mean_squared_error': 0.986902117729187,\n",
              " 'total_loss': 0.9656700491905212}"
            ]
          },
          "metadata": {},
          "execution_count": 78
        }
      ]
    },
    {
      "cell_type": "markdown",
      "metadata": {
        "id": "f4Mf3sHjzDG7"
      },
      "source": [
        "# testing model"
      ]
    },
    {
      "cell_type": "code",
      "metadata": {
        "colab": {
          "base_uri": "https://localhost:8080/"
        },
        "id": "ZXk-4_kqx_aH",
        "outputId": "7736f54a-be11-4443-c206-24b30ba3b5a2"
      },
      "source": [
        "test_data=[i for i in train.batch(1).take(20)]\n",
        "\n",
        "for test in test_data:\n",
        "  prediction=model(test)\n",
        "  actual_label=test['rating']\n",
        "  movie_title=test['movie_title']\n",
        "  print('user : one random user')\n",
        "  print(f' movie : {movie_title}')\n",
        "  print(f'actual rate is {actual_label}\\n predicted rate is {prediction}')\n",
        "  print('------------------------')"
      ],
      "execution_count": null,
      "outputs": [
        {
          "output_type": "stream",
          "name": "stdout",
          "text": [
            "user : one random user\n",
            " movie : [b'Shining, The (1980)']\n",
            "actual rate is [2.]\n",
            " predicted rate is [[4.0236855]]\n",
            "------------------------\n",
            "user : one random user\n",
            " movie : [b'Speed (1994)']\n",
            "actual rate is [4.]\n",
            " predicted rate is [[3.5547466]]\n",
            "------------------------\n",
            "user : one random user\n",
            " movie : [b'Terminator 2: Judgment Day (1991)']\n",
            "actual rate is [3.]\n",
            " predicted rate is [[3.703743]]\n",
            "------------------------\n",
            "user : one random user\n",
            " movie : [b'Army of Darkness (1993)']\n",
            "actual rate is [4.]\n",
            " predicted rate is [[3.034646]]\n",
            "------------------------\n",
            "user : one random user\n",
            " movie : [b'Evita (1996)']\n",
            "actual rate is [4.]\n",
            " predicted rate is [[4.3348827]]\n",
            "------------------------\n",
            "user : one random user\n",
            " movie : [b'Jurassic Park (1993)']\n",
            "actual rate is [5.]\n",
            " predicted rate is [[3.836258]]\n",
            "------------------------\n",
            "user : one random user\n",
            " movie : [b'Kiss of Death (1995)']\n",
            "actual rate is [3.]\n",
            " predicted rate is [[2.7258916]]\n",
            "------------------------\n",
            "user : one random user\n",
            " movie : [b'Glimmer Man, The (1996)']\n",
            "actual rate is [3.]\n",
            " predicted rate is [[3.5077496]]\n",
            "------------------------\n",
            "user : one random user\n",
            " movie : [b'To Wong Foo, Thanks for Everything! Julie Newmar (1995)']\n",
            "actual rate is [2.]\n",
            " predicted rate is [[1.7670014]]\n",
            "------------------------\n",
            "user : one random user\n",
            " movie : [b'Once Upon a Time in the West (1969)']\n",
            "actual rate is [3.]\n",
            " predicted rate is [[4.4816284]]\n",
            "------------------------\n",
            "user : one random user\n",
            " movie : [b'Grosse Pointe Blank (1997)']\n",
            "actual rate is [3.]\n",
            " predicted rate is [[3.2772956]]\n",
            "------------------------\n",
            "user : one random user\n",
            " movie : [b'Braveheart (1995)']\n",
            "actual rate is [4.]\n",
            " predicted rate is [[3.922731]]\n",
            "------------------------\n",
            "user : one random user\n",
            " movie : [b'Pillow Book, The (1995)']\n",
            "actual rate is [5.]\n",
            " predicted rate is [[3.8248167]]\n",
            "------------------------\n",
            "user : one random user\n",
            " movie : [b'Lord of Illusions (1995)']\n",
            "actual rate is [3.]\n",
            " predicted rate is [[1.8573306]]\n",
            "------------------------\n",
            "user : one random user\n",
            " movie : [b'Return of Martin Guerre, The (Retour de Martin Guerre, Le) (1982)']\n",
            "actual rate is [4.]\n",
            " predicted rate is [[4.1903553]]\n",
            "------------------------\n",
            "user : one random user\n",
            " movie : [b'Out to Sea (1997)']\n",
            "actual rate is [1.]\n",
            " predicted rate is [[1.8700986]]\n",
            "------------------------\n",
            "user : one random user\n",
            " movie : [b'Little Princess, The (1939)']\n",
            "actual rate is [3.]\n",
            " predicted rate is [[2.9056644]]\n",
            "------------------------\n",
            "user : one random user\n",
            " movie : [b'G.I. Jane (1997)']\n",
            "actual rate is [2.]\n",
            " predicted rate is [[3.259519]]\n",
            "------------------------\n",
            "user : one random user\n",
            " movie : [b'Sense and Sensibility (1995)']\n",
            "actual rate is [4.]\n",
            " predicted rate is [[4.349639]]\n",
            "------------------------\n",
            "user : one random user\n",
            " movie : [b'Chasing Amy (1997)']\n",
            "actual rate is [3.]\n",
            " predicted rate is [[3.81952]]\n",
            "------------------------\n"
          ]
        }
      ]
    },
    {
      "cell_type": "code",
      "metadata": {
        "id": "onEZqDXo0q6M"
      },
      "source": [
        ""
      ],
      "execution_count": null,
      "outputs": []
    }
  ]
}